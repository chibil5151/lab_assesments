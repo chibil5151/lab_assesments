{
 "cells": [
  {
   "cell_type": "markdown",
   "metadata": {},
   "source": [
    "# LAB 1"
   ]
  },
  {
   "cell_type": "code",
   "execution_count": 1,
   "metadata": {},
   "outputs": [
    {
     "name": "stdout",
     "output_type": "stream",
     "text": [
      "Hello\n"
     ]
    }
   ],
   "source": [
    "print('Hello')"
   ]
  },
  {
   "cell_type": "code",
   "execution_count": 6,
   "metadata": {},
   "outputs": [
    {
     "name": "stdout",
     "output_type": "stream",
     "text": [
      "Q2\n",
      "Number is  123\n"
     ]
    }
   ],
   "source": [
    "# 2\n",
    "print(\"Q2\")\n",
    "number_in_program = 123\n",
    "print(\"Number is \",number_in_program)"
   ]
  },
  {
   "cell_type": "code",
   "execution_count": null,
   "metadata": {},
   "outputs": [],
   "source": [
    "# 3\n",
    "print(\"Q3\")\n",
    "number_frm_user = input(\"gimme a number: \")\n",
    "print(\"Number is \",number_frm_user)"
   ]
  },
  {
   "cell_type": "code",
   "execution_count": null,
   "metadata": {},
   "outputs": [],
   "source": [
    "# 4\n",
    "first_number = int(input(\"Gimme a number: \"))\n",
    "second_number = int(input(\"Gimme another number: \"))\n",
    "print(f\"{first_number} + {second_number} = {first_number+second_number}\")"
   ]
  },
  {
   "cell_type": "code",
   "execution_count": 5,
   "metadata": {},
   "outputs": [
    {
     "name": "stdout",
     "output_type": "stream",
     "text": [
      "5 + 554 = 559\n",
      "        5 - 554 = -549\n",
      "        5 * 554 = 2770\n",
      "        5 / 554 = 0.009025270758122744\n",
      "        5 % 554 = 5\n"
     ]
    }
   ],
   "source": [
    "# 5\n",
    "first_number = int(input(\"Gimme a number: \"))\n",
    "second_number = int(input(\"Gimme another number: \"))\n",
    "print(f'''{first_number} + {second_number} = {first_number+second_number}\n",
    "{first_number} - {second_number} = {first_number-second_number}\n",
    "{first_number} * {second_number} = {first_number*second_number}\n",
    "{first_number} / {second_number} = {first_number/second_number}\n",
    "{first_number} % {second_number} = {first_number%second_number}''')"
   ]
  },
  {
   "cell_type": "code",
   "execution_count": null,
   "metadata": {},
   "outputs": [],
   "source": [
    "#6\n",
    "first_number = int(input(\"Gimme a number: \"))\n",
    "second_number = int(input(\"Gimme another number: \"))\n",
    "print(f\"First number was {second_number}, second number was {first_number}\")\n",
    "# OR\n",
    "# import re\n",
    "# numbers_frm_users = input(\"Gimme 2 numbers: \")\n",
    "# list = re.split(\",|, | \", numbers_frm_users)\n",
    "# print(f\"{list[1]} {list[0]}\")"
   ]
  },
  {
   "cell_type": "code",
   "execution_count": null,
   "metadata": {},
   "outputs": [],
   "source": [
    "# 7\n",
    "import math\n",
    "r = int(input(\"Gimme the radius of the circle: \"))\n",
    "pi = math.pi\n",
    "area = round(r*r*pi,2)\n",
    "circumference = round(2*pi*r,2)\n",
    "lb = '\\n'\n",
    "print(f\"The area of the circle is {area}.{lb}The cicrcumference of the circle is {circumference}.\")"
   ]
  },
  {
   "cell_type": "code",
   "execution_count": null,
   "metadata": {},
   "outputs": [],
   "source": [
    "#8\n",
    "m1 = int(input(\"Enter the marks of 1st subject: \"))\n",
    "m2 = int(input(\"Enter the marks of 2nd subject: \"))\n",
    "m3 = int(input(\"Enter the marks of 3rd subject: \"))\n",
    "m4 = int(input(\"Enter the marks of 4th subject: \"))\n",
    "m5 = int(input(\"Enter the marks of 5th subject: \"))\n",
    "total = int(m1+m2+m3+m4+m5)\n",
    "print(\"Total is: \", total)\n",
    "print(\"Average is: \", total/5)"
   ]
  },
  {
   "cell_type": "code",
   "execution_count": null,
   "metadata": {},
   "outputs": [],
   "source": [
    "#9\n",
    "basic = float(input(\"Enter basic salary: \"))\n",
    "grade_pay = basic*2\n",
    "DA = 0.7*basic\n",
    "TA = 200\n",
    "HRA = 0.2*basic\n",
    "salary = grade_pay+DA+TA+HRA\n",
    "print(\"The grade pay is: \",grade_pay)\n",
    "print(\"The DA is: \", DA)\n",
    "print(\"The TA is: \", TA)\n",
    "print(\"The HRA is: \", HRA)\n",
    "print(\"The salary is: \", salary)"
   ]
  },
  {
   "cell_type": "markdown",
   "metadata": {},
   "source": [
    "# LAB 2"
   ]
  },
  {
   "cell_type": "code",
   "execution_count": null,
   "metadata": {},
   "outputs": [],
   "source": [
    "#1\n",
    "number = int(input(\"Enter number: \"))\n",
    "if (number%2 ==0):\n",
    "    print(\"The number is even.\")\n",
    "else:\n",
    "    print(\"The number is odd.\")\n"
   ]
  },
  {
   "cell_type": "code",
   "execution_count": null,
   "metadata": {},
   "outputs": [],
   "source": [
    "#2\n",
    "year = int(input(\"Enter year: \"))\n",
    "if (year%4 ==0) and (year%100 != 0):\n",
    "    print(\"It is a leap year.\")\n",
    "else:\n",
    "    print(\"It is not a learp year.\")"
   ]
  },
  {
   "cell_type": "code",
   "execution_count": null,
   "metadata": {},
   "outputs": [],
   "source": [
    "#3\n",
    "number1 = int(input(\"Enter the first number: \"))\n",
    "number2 = int(input(\"Enter the second number: \"))\n",
    "if number1 > number2:\n",
    "    print(f\"{number1} is larger than {number2}.\")\n",
    "else:\n",
    "    print(f\"{number2} is larger than {number1}\")"
   ]
  },
  {
   "cell_type": "code",
   "execution_count": null,
   "metadata": {},
   "outputs": [],
   "source": [
    "#4\n",
    "n1 = int(input(\"Enter number 1: \"))\n",
    "n2 = int(input(\"Enter number 2: \"))\n",
    "n3 = int(input(\"Enter number 3: \"))\n",
    "if (n1 >= n2) and (n1 >= n3):\n",
    "    print(\"The 1st number is the largest.\")\n",
    "elif (n2 >= n3) and (n2 >= n1):\n",
    "    print(\"The 2nd number is the largest\")\n",
    "else:\n",
    "    print(\"The 3rd number is the largest.\")\n"
   ]
  },
  {
   "cell_type": "code",
   "execution_count": null,
   "metadata": {},
   "outputs": [],
   "source": [
    "#5\n",
    "number = int(input(\"Enter number: \"))\n",
    "if number == 0:\n",
    "    print(\"The number is Zero\")\n",
    "elif number > 0:\n",
    "    print(\"The number is positive\")\n",
    "else:\n",
    "    print(\"The number is negative\")"
   ]
  },
  {
   "cell_type": "code",
   "execution_count": null,
   "metadata": {},
   "outputs": [],
   "source": [
    "#6\n",
    "name = input(\"Enter student name: \")\n",
    "tpn = input(\"Enter TPnumber: \")\n",
    "s1 = int(input(\"Enter marks of subject 1: \"))\n",
    "s2 = int(input(\"Enter marks of subject 2: \"))\n",
    "s3 = int(input(\"Enter marks of subject 3: \"))\n",
    "s4 = int(input(\"Enter marks of subject 4: \"))\n",
    "s5 = int(input(\"Enter marks of subject 5: \"))\n",
    "\n",
    "marks=(s1, s2, s3, s4, s5)\n",
    "average = sum(marks)/len(marks)\n",
    "\n",
    "print(\"Total: \", sum(marks))\n",
    "print(\"Percentage(average): \", average)\n",
    "\n",
    "if average>=80 and average<=100:  \n",
    "    print(\"Grade: A+\")\n",
    "elif average>=75 and average<=80: \n",
    "    print(\"Grade: A\")\n",
    "elif average>=70 and average<=75: \n",
    "    print(\"Grade: B+\")\n",
    "elif average>=65 and average<=70: \n",
    "    print(\"Grade: B\")\n",
    "elif average>=55 and average<=60: \n",
    "    print(\"Grade: C\")\n",
    "elif average>=50 and average<=55: \n",
    "    print(\"Grade: C-\")\n",
    "else:\n",
    "    print(\"Grade: D\")\n",
    "    \n",
    "# # #6\n",
    "# name = input(\"Enter student name: \")\n",
    "# tpn = input(\"Enter TPnumber: \")\n",
    "# marks = [int(marks) for marks in input(\"Enter the marks of 5 subjects: \").split()]\n",
    "# average = sum(marks)/len(marks)\n",
    "\n",
    "# print(\"Total: \", sum(marks))\n",
    "# print(\"Percentage(average): \", average)\n",
    "\n",
    "# if average>=80 and average<=100:  \n",
    "#     grade = \"A+\"\n",
    "# elif average>=75 and average<=80: \n",
    "#     grade = \"A\"\n",
    "# elif average>=70 and average<=75: \n",
    "#     grade = \"B+\"\n",
    "# elif average>=65 and average<=70: \n",
    "#     grade = \"B\"\n",
    "# elif average>=55 and average<=60: \n",
    "#     grade = \"C\"\n",
    "# elif average>=50 and average<=55: \n",
    "#     grade = \"C-\"\n",
    "# else:\n",
    "#         grade = \"D\"\n",
    "# print(\"Grade: \", grade)\n",
    "\n"
   ]
  },
  {
   "cell_type": "code",
   "execution_count": null,
   "metadata": {},
   "outputs": [],
   "source": [
    "#7\n",
    "c_name = input(\"Enter name: \")\n",
    "p_amount = float(input(\"Enter purchase amount: \"))\n",
    "taxcode = input(\"Enter tax code: \")\n",
    "if taxcode == 0:\n",
    "    salestax = 0\n",
    "elif taxcode == 1:\n",
    "    salestax = p_amount*0.03\n",
    "elif taxcode == 2:\n",
    "    salestax = p_amount*0.05\n",
    "else:\n",
    "    salestax = p_amount*0.07\n",
    "total = p_amount + salestax\n",
    "print(f'''\n",
    "Customer: {c_name}\n",
    "Purchase Amount: {p_amount}\n",
    "Sales Tax: {salestax}\n",
    "Total Amount: {total}'''\n",
    ")\n"
   ]
  },
  {
   "cell_type": "code",
   "execution_count": null,
   "metadata": {},
   "outputs": [],
   "source": [
    "#8\n",
    "temp = float(input(\"Enter body temperature: \"))\n",
    "if (temp <= 37.5) and (temp >= 36.5):\n",
    "    print(\"You are normal\")\n",
    "else:\n",
    "    print(\"You should go see a doctor. LOL\")"
   ]
  },
  {
   "cell_type": "code",
   "execution_count": null,
   "metadata": {},
   "outputs": [],
   "source": [
    "#9\n",
    "c_name = input(\"Enter name: \")\n",
    "p_amount = float(input(\"Enter \"))\n",
    "if (p_amount <= 0) and (p_amount <= 100):\n",
    "    discount = p_amount* 0.02\n",
    "elif (p_amount <= 101) and (p_amount <= 200):\n",
    "    discount = p_amount* 0.03\n",
    "elif (p_amount <= 201) and (p_amount <= 300):\n",
    "    discount = p_amount* 0.04\n",
    "else:\n",
    "    discount = p_amount* 0.1\n",
    "print(\n",
    "    f\"Customer name: {c_name}\\nPurchase Amount: {p_amount}\\nFinal bill: {p_amount - discount}\"\n",
    ")"
   ]
  },
  {
   "cell_type": "markdown",
   "metadata": {},
   "source": [
    "# LAB 3 LOOPS\n",
    "most of it have both while and for loop in them"
   ]
  },
  {
   "cell_type": "code",
   "execution_count": null,
   "metadata": {},
   "outputs": [],
   "source": [
    "#1\n",
    "i = int()\n",
    "for i in range(1, 16, 1):\n",
    "    print(i)\n",
    "\n",
    "i = int(1)\n",
    "while i <= 15:\n",
    "    print(i)\n",
    "    i += 1\n"
   ]
  },
  {
   "cell_type": "code",
   "execution_count": null,
   "metadata": {},
   "outputs": [],
   "source": [
    "#2\n",
    "i = int()\n",
    "sum = 0\n",
    "for i in range(1, 11):\n",
    "    sum = sum+i\n",
    "    print(sum)\n",
    "\n",
    "# i = int(1)\n",
    "# sum = i\n",
    "# while i <= 10:\n",
    "#     print(sum)\n",
    "#     i += 1\n",
    "#     sum += i"
   ]
  },
  {
   "cell_type": "code",
   "execution_count": null,
   "metadata": {},
   "outputs": [],
   "source": [
    "#3\n",
    "i = int()\n",
    "for i in range(1, 21, 1):\n",
    "    if i %2 == 0:\n",
    "        print(i)\n",
    "\n",
    "# i = int(1)\n",
    "# while i <= 20:\n",
    "#     if i%2 ==0:\n",
    "#         print(i)\n",
    "#     i += 1"
   ]
  },
  {
   "cell_type": "code",
   "execution_count": null,
   "metadata": {},
   "outputs": [],
   "source": [
    "#4\n",
    "i = int()\n",
    "for i in range(1, 21, 1):\n",
    "    if i %2 == 0:\n",
    "        print(\"Even: \", i)\n",
    "    else:\n",
    "        print(\"Odd: \", i)\n",
    "\n",
    "#4\n",
    "i = int()\n",
    "even=[]\n",
    "odd=[]\n",
    "for i in range(1, 21, 1):\n",
    "    if i %2 == 0:\n",
    "       even.append(i)\n",
    "    else:\n",
    "       odd.append(i)\n",
    "print(\"Odd numbers: \", odd)\n",
    "print(\"Even numbers: \", even)\n",
    "\n",
    "\n",
    "i = int(1)\n",
    "even=[]\n",
    "odd=[]\n",
    "while i <= 20:\n",
    "    if i %2 == 0:\n",
    "       even.append(i)\n",
    "    else:\n",
    "       odd.append(i)\n",
    "    i += 1\n",
    "print(\"Odd numbers: \", odd)\n",
    "print(\"Even numbers: \", even)"
   ]
  },
  {
   "cell_type": "code",
   "execution_count": null,
   "metadata": {},
   "outputs": [],
   "source": [
    "#5\n",
    "number = int(input(\"Enter number: \"))\n",
    "for i in range(1, 11, 1):\n",
    "    print(f\"{number} x {i} = {number*i}\")\n",
    "\n",
    "# number = int(input(\"Enter number: \"))\n",
    "# i = 1\n",
    "# while i <= 10:\n",
    "#     print(f\"{number} x {i} = {number*i}\")\n",
    "#     i += 1\n"
   ]
  },
  {
   "cell_type": "code",
   "execution_count": null,
   "metadata": {},
   "outputs": [],
   "source": [
    "#6\n",
    "i = int()\n",
    "even=[]\n",
    "odd=[]\n",
    "for i in range(1, 11, 1):\n",
    "    if i %2 == 0:\n",
    "       even.append(i)\n",
    "    else:\n",
    "       odd.append(i)\n",
    "print(\"EVENSUM: \", sum(even))\n",
    "print(\"ODDSUM: \", sum(odd))\n",
    "\n",
    "# i = int(1)\n",
    "# even=[]\n",
    "# odd=[]\n",
    "# while i <= 10:\n",
    "#     if i %2 == 0:\n",
    "#        even.append(i)\n",
    "#     else:\n",
    "#        odd.append(i)\n",
    "#     i += 1\n",
    "# print(\"EVENSUM: \", sum(even))\n",
    "# print(\"ODDSUM: \", sum(odd))"
   ]
  },
  {
   "cell_type": "code",
   "execution_count": null,
   "metadata": {},
   "outputs": [],
   "source": [
    "#7\n",
    "number = int(input(\"Enter number: \"))\n",
    "factorial = 1\n",
    "for i in range(1, number+1, 1):\n",
    "    factorial = factorial*i\n",
    "print(factorial)\n",
    "\n",
    "# number = int(input(\"Enter number: \"))\n",
    "# factorial = 1\n",
    "# i = 1\n",
    "# while i <= number:\n",
    "#     factorial = factorial*i\n",
    "#     i += 1\n",
    "# print(factorial) "
   ]
  },
  {
   "cell_type": "code",
   "execution_count": null,
   "metadata": {},
   "outputs": [],
   "source": [
    "# #8\n",
    "number = int(input(\"Enter number: \"))\n",
    "rev = 0\n",
    "while(number > 0):\n",
    "    remainder = number % 10\n",
    "    rev = rev * 10 + remainder\n",
    "    number = number // 10\n",
    "print(rev)\n"
   ]
  },
  {
   "cell_type": "code",
   "execution_count": null,
   "metadata": {},
   "outputs": [],
   "source": [
    "#9\n",
    "number = int(input('Enter number to check for ARMSTRONG number: '))\n",
    "sum = 0\n",
    "times = 0\n",
    "temp = number\n",
    "while temp>0:\n",
    "    times = times+1\n",
    "    temp = temp//10\n",
    "temp2 = number\n",
    "for i in range(1, temp2+1):\n",
    "    remainder = temp2%10\n",
    "    sum = sum + (remainder ** times)\n",
    "    temp2 = temp2//10\n",
    "if number == sum:\n",
    "    print(number, 'is an ARMSTRONG number')\n",
    "else:\n",
    "    print(number, ' is NOT an ARMSTRONG number')\n"
   ]
  },
  {
   "cell_type": "code",
   "execution_count": null,
   "metadata": {},
   "outputs": [],
   "source": [
    "#10\n",
    "number = int(input(\"Enter number: \"))\n",
    "rev = 0\n",
    "temp = number\n",
    "while(temp > 0):\n",
    "    remainder = temp % 10\n",
    "    rev = rev * 10 + remainder\n",
    "    temp = temp // 10\n",
    "if rev == number:\n",
    "    print(number, 'is an Palindrome number')\n",
    "else:\n",
    "    print(number, ' is NOT an Palindrome number')\n"
   ]
  },
  {
   "cell_type": "code",
   "execution_count": null,
   "metadata": {},
   "outputs": [],
   "source": [
    "#11\n",
    "a = 0\n",
    "b = 1\n",
    "for i in range(0, 11):\n",
    "    if i <= 1:\n",
    "        c = i\n",
    "    else:\n",
    "        c = a + b\n",
    "        a = b\n",
    "        b = c\n",
    "    print(c)\n",
    "\n",
    "# a = 0\n",
    "# b = 1\n",
    "# i= int(0)\n",
    "# while i <= 10:\n",
    "#     if i <= 1:\n",
    "#         c = i\n",
    "#     else:\n",
    "#         c = a + b\n",
    "#         a = b\n",
    "#         b = c\n",
    "#     i += 1\n",
    "#     print(c)\n"
   ]
  },
  {
   "cell_type": "code",
   "execution_count": null,
   "metadata": {},
   "outputs": [],
   "source": [
    "#12\n",
    "number = int(input(\"Enter number: \"))\n",
    "sum = 0\n",
    "for i in range(len(str(number))):\n",
    "    remainder = number%10\n",
    "    sum += remainder\n",
    "    number = number//10\n",
    "print(sum)\n",
    "\n",
    "# number = int(input(\"Enter number: \"))\n",
    "# sum = 0\n",
    "# while number >0:\n",
    "#         remainder = number % 10\n",
    "#         sum += remainder\n",
    "#         number = number // 10\n",
    "# print(sum)"
   ]
  },
  {
   "cell_type": "code",
   "execution_count": null,
   "metadata": {},
   "outputs": [],
   "source": [
    "#13\n",
    "number = int(input(\"Enter number: \"))\n",
    "for i in range(2, number, +1):\n",
    "    if number%i == 0:\n",
    "        print(number, \" is not a prime number\")\n",
    "        print(i, \" times \", number//i, \" is \", number)\n",
    "        break\n",
    "else:\n",
    "    print(number, \" is a prime number\")\n",
    "\n",
    "# number = int(input(\"Enter number: \"))\n",
    "# count = 2\n",
    "# if number > 2:\n",
    "#     while count > 0:\n",
    "#         if number%count == 0:\n",
    "#             print(number, \" is not a prime number\")\n",
    "#             print(f\"{count} times {number//count} equals {number}\")\n",
    "#             break\n",
    "#         count += 1\n",
    "#     else:\n",
    "#         print(number, \" is a prime number\")\n",
    "# else:\n",
    "#     print(number, \" is a prime number\")"
   ]
  },
  {
   "cell_type": "code",
   "execution_count": null,
   "metadata": {},
   "outputs": [],
   "source": [
    "#14\n",
    "for i in range(100, 1000):\n",
    "    temp = i\n",
    "    sum = 0\n",
    "    power = 3\n",
    "    while temp>0:\n",
    "        remainder = temp%10\n",
    "        sum += remainder**power\n",
    "        temp //= 10\n",
    "    if i == sum:\n",
    "        print(sum)\n",
    "\n",
    "# i = 100\n",
    "# while i<1000:\n",
    "#     temp = i\n",
    "#     sum = 0\n",
    "#     power = 3\n",
    "#     while temp>0:\n",
    "#         remainder = temp%10\n",
    "#         sum += remainder**power\n",
    "#         temp //= 10\n",
    "#     if i == sum:\n",
    "#         print(sum)\n",
    "#     i += 1"
   ]
  },
  {
   "cell_type": "code",
   "execution_count": null,
   "metadata": {},
   "outputs": [],
   "source": [
    "#15 = #9"
   ]
  },
  {
   "cell_type": "code",
   "execution_count": null,
   "metadata": {},
   "outputs": [],
   "source": [
    "#16\n",
    "for i in range(1, 201):\n",
    "    temp = i\n",
    "    rev = 0\n",
    "    while temp > 0:\n",
    "        remainder = temp % 10\n",
    "        rev = rev *10 + remainder\n",
    "        temp = temp//10\n",
    "        if rev == i:\n",
    "            print(i)\n",
    "\n",
    "# i = int(1)\n",
    "# while i <201:\n",
    "#     temp = i\n",
    "#     rev = 0\n",
    "#     while temp > 0:\n",
    "#         remainder = temp % 10\n",
    "#         rev = rev *10 + remainder\n",
    "#         temp = temp//10\n",
    "#         if rev == i:\n",
    "#             print(i)\n",
    "#     i += 1"
   ]
  },
  {
   "cell_type": "code",
   "execution_count": null,
   "metadata": {},
   "outputs": [],
   "source": [
    "#17\n",
    "numbers = []\n",
    "for i in range(9999):\n",
    "    number = int(input(\"Enter number: \"))\n",
    "    numbers.append(number)\n",
    "    if number == 0:\n",
    "        break\n",
    "print(\"The max value received is \", max(numbers))\n",
    "\n",
    "# numbers = []\n",
    "# i = 1\n",
    "# while i > 0:\n",
    "#     number = int(input(\"Enter number: \"))\n",
    "#     numbers.append(number)\n",
    "#     if number == 0:\n",
    "#         break\n",
    "# print(\"The max value received is \", max(numbers))"
   ]
  },
  {
   "cell_type": "code",
   "execution_count": null,
   "metadata": {},
   "outputs": [],
   "source": [
    "#18\n",
    "number1 = int(input(\"Enter 1st number: \"))\n",
    "number2 = int(input(\"Enter 2nd number: \"))\n",
    "if number1 > number2:\n",
    "    larger = number1\n",
    "else:\n",
    "    larger = number2\n",
    "for i in range(larger, 0, -1):\n",
    "    if ((number1 % i == 0) and (number2 % i == 0)):\n",
    "        break\n",
    "print(\"The GCD of the two number is: \", i)\n",
    "\n",
    "number1 = int(input(\"Enter 1st number: \"))\n",
    "number2 = int(input(\"Enter 2nd number: \"))\n",
    "if number1 > number2:\n",
    "    larger = number1\n",
    "else:\n",
    "    larger = number2\n",
    "i = larger\n",
    "while True:\n",
    "    if ((number1 % i == 0) and (number2 % i == 0)):\n",
    "        break\n",
    "    i -= 1\n",
    "print(\"The GCD of the two number is: \", i)"
   ]
  },
  {
   "cell_type": "code",
   "execution_count": null,
   "metadata": {},
   "outputs": [],
   "source": [
    "#19\n",
    "number = int(input(\"Enter number: \"))\n",
    "for i in range(2, number, +1):\n",
    "    if number%i == 0:\n",
    "        print(number, \" is not a prime number\")\n",
    "        sum = 0\n",
    "        for i in range(len(str(number))):\n",
    "            remainder = number%10\n",
    "            sum += remainder\n",
    "            number = number//10\n",
    "        print(\"Sum of its digits is \", sum)\n",
    "        break\n",
    "    # else:\n",
    "#         print(number, \" is a prime number\")\n",
    "#         factorial = 1\n",
    "#         for i in range(1, number+1, 1):\n",
    "#             factorial = factorial*i\n",
    "#         print(\"Its factorial is \", factorial)\n",
    "else:\n",
    "    print(number, \" is a prime number\")\n",
    "    factorial = 1\n",
    "    for i in range(1, number+1, 1):\n",
    "        factorial = factorial*i\n",
    "    print(\"Its factorial is \", factorial)\n"
   ]
  },
  {
   "cell_type": "code",
   "execution_count": null,
   "metadata": {},
   "outputs": [],
   "source": [
    "#20\n",
    "number = int(input(\"Enter number: \"))\n",
    "temp = number\n",
    "sum = 0\n",
    "times = 0\n",
    "while temp>0:\n",
    "    times = times+1\n",
    "    temp = temp//10\n",
    "temp2 = number\n",
    "while temp2>0:\n",
    "    remainder = temp2%10\n",
    "    sum = sum + (remainder**times)\n",
    "    temp2 = temp2//10\n",
    "if number == sum:\n",
    "    print(number, \" is an Armstrong number.\")\n",
    "    rev = 0\n",
    "    temp3 = number\n",
    "    while temp3>0:\n",
    "        remainder = temp3%10\n",
    "        rev = (rev*10) + remainder\n",
    "        temp3 //= 10\n",
    "    print(rev, \" is the reverse of the number.\")\n",
    "else:\n",
    "    print(number, \" is not an Armstrong number.\")\n",
    "    temp4 = number\n",
    "    rev = 0\n",
    "    while temp4>0:\n",
    "        remainder = temp4%10\n",
    "        rev = (rev*10) + remainder\n",
    "        temp4 //= 10\n",
    "    if rev == number:\n",
    "        print(number, \" is a Palindrome.\")\n",
    "    else:\n",
    "        print(number, \" is not a Palindrome.\")"
   ]
  },
  {
   "cell_type": "code",
   "execution_count": null,
   "metadata": {},
   "outputs": [],
   "source": [
    "# #21\n",
    "number = int(input(\"Enter number: \"))\n",
    "factorial = 1\n",
    "for i in range(1, number+1):\n",
    "    factorial = factorial*i\n",
    "print(\"The factorial of the number is \", factorial)\n",
    "temp = factorial\n",
    "temp2 = number\n",
    "sum = 0\n",
    "rev = 0\n",
    "if factorial > 500:\n",
    "    while temp > 0:\n",
    "        digits = temp%10\n",
    "        sum += digits\n",
    "        temp//=10\n",
    "    print(\"The sum of digits of the factorial is \", sum)\n",
    "else:\n",
    "    while temp2>0:\n",
    "        remainder = temp2%10\n",
    "        rev = (rev*10) + remainder\n",
    "        temp2//=10\n",
    "    print(\"The reverse of the number is \", rev)"
   ]
  },
  {
   "cell_type": "markdown",
   "metadata": {},
   "source": [
    "# LAB 3D LISTS"
   ]
  },
  {
   "cell_type": "code",
   "execution_count": null,
   "metadata": {},
   "outputs": [],
   "source": [
    "# q1\n",
    "elements = []\n",
    "for i in range(1, 11):\n",
    "    ele = input(f\"Enter element {i} :\")\n",
    "    elements.append(ele)\n",
    "print(elements)"
   ]
  },
  {
   "cell_type": "code",
   "execution_count": null,
   "metadata": {},
   "outputs": [],
   "source": [
    "#Q2\n",
    "newlist = []\n",
    "i = int(input(\"Enter the size of list: \"))\n",
    "for i in range(1, i+1):\n",
    "    elements = input(f\"Enter element {i} : \")\n",
    "    newlist.append(elements)\n",
    "print(newlist)\n",
    "print(\"Sum of elements in list: \", sum(newlist))\n"
   ]
  },
  {
   "cell_type": "code",
   "execution_count": null,
   "metadata": {},
   "outputs": [],
   "source": [
    "#Q3\n",
    "students = []\n",
    "i = int(input(\"Enter the number of students: \"))\n",
    "for i in range(1, i+1):\n",
    "    names = input(\"Enter student names: \")\n",
    "    students.append(names)\n",
    "print(\"The number of students is \", len(students))\n"
   ]
  },
  {
   "cell_type": "code",
   "execution_count": null,
   "metadata": {},
   "outputs": [],
   "source": [
    "#Q4\n",
    "def check_number(num):\n",
    "    if (num in list):\n",
    "        print(\"yes\")\n",
    "    else:\n",
    "        print(\"no\")\n",
    "list = [65,75,85,95,105]\n",
    "num = int(input(\"Enter number: \"))\n",
    "check_number(num)"
   ]
  },
  {
   "cell_type": "code",
   "execution_count": null,
   "metadata": {},
   "outputs": [],
   "source": [
    "#Q5\n",
    "i = int(input(\"Enter the number of total students in a class: \"))\n",
    "classmarks = []\n",
    "for i in range(1, i+1):\n",
    "    mark = int(input(\"Enter class test marks: \"))\n",
    "    classmarks.append(mark)\n",
    "print(\"Average of class test is: \", sum(classmarks)/len(classmarks))"
   ]
  },
  {
   "cell_type": "code",
   "execution_count": null,
   "metadata": {},
   "outputs": [],
   "source": [
    "# Q6\n",
    "\n",
    "def mark(i):\n",
    "    for i in range(1, i+1):\n",
    "        mark = int(input(f\"Enter {i} subject marks:\"))\n",
    "        marks.append(mark)\n",
    "\n",
    "def grade(avg):\n",
    "    if avg>=80 and avg<=100:  \n",
    "        grade = \"A+\"\n",
    "    elif avg>=75 and avg<=80: \n",
    "        grade = \"A\"\n",
    "    elif avg>=70 and avg<=75: \n",
    "        grade = \"B+\"\n",
    "    elif avg>=65 and avg<=70: \n",
    "        grade = \"B\"\n",
    "    elif avg>=60 and avg<=65: \n",
    "        grade = \"C+\"\n",
    "    elif avg>=55 and avg<=60:\n",
    "        grade = \"C\"\n",
    "    elif avg>=50 and avg<=55: \n",
    "        grade = \"C-\"\n",
    "    else:\n",
    "        grade = \"D\"\n",
    "    print(\"Grade of Semester: \", grade)\n",
    "\n",
    "marks = []\n",
    "\n",
    "name = str(input(\"Enter student name: \"))\n",
    "tpn = str(input(\"Enter TP number: \"))\n",
    "i = int(input(\"How many subjects in Semester: \"))\n",
    "\n",
    "mark(i)\n",
    "print(name)\n",
    "print(tpn)\n",
    "\n",
    "total = sum(marks)\n",
    "avg= total/len(marks)\n",
    "\n",
    "print(\"Average of Semester: \", avg)\n",
    "print(grade(avg))"
   ]
  },
  {
   "cell_type": "markdown",
   "metadata": {},
   "source": [
    "# LAB 4 FUNCTIONS"
   ]
  },
  {
   "cell_type": "code",
   "execution_count": null,
   "metadata": {},
   "outputs": [],
   "source": [
    "#   Q1 finding differences\n",
    "def subtract(num1, num2):\n",
    "    return num1-num2\n",
    "\n",
    "num1 = int(input(\"Enter first number: \"))\n",
    "num2 = int(input(\"Enter second number: \"))\n",
    "print(\"Difference of the given two number is: \", subtract(num1, num2))\n"
   ]
  },
  {
   "cell_type": "code",
   "execution_count": null,
   "metadata": {},
   "outputs": [],
   "source": [
    "#Q2 find average\n",
    "def average(num1, num2, num3):\n",
    "    return sum(num1,num2,num3)/3\n",
    "num1 = int(input(\"Enter first number: \"))\n",
    "num2 = int(input(\"Enter second number: \"))\n",
    "num3 = int(input(\"Enter third number: \"))\n",
    "print(\"Average of the given three number is: \", average(num1, num2, num3))"
   ]
  },
  {
   "cell_type": "code",
   "execution_count": null,
   "metadata": {},
   "outputs": [],
   "source": [
    "#Q3 \n",
    "def add(num1, num2):\n",
    "    return num1+num2\n",
    "def subtract(num1, num2):\n",
    "    return num1-num2\n",
    "def multiply(num1, num2):\n",
    "    return num1 * num2\n",
    "def divide(num1, num2):\n",
    "    return num1 / num2\n",
    "\n",
    "operation=input('''Calculator Program\n",
    "    1. ADD\n",
    "    2. SUBTRACT\n",
    "    3. MULTIPLY\n",
    "    4. DIVIDE\n",
    "Choose the operation from the given options: ''')\n",
    "\n",
    "if operation in (\"1\",\"2\",\"3\",\"4\"):\n",
    "    num1 = int(input(\"Enter first number: \"))\n",
    "    num2 = int(input(\"Enter second number: \"))\n",
    "    if operation == \"1\":\n",
    "        print(f\"Sum of {num1} and {num2} is {add(num1,num2)}\")\n",
    "    elif operation == \"2\":\n",
    "        print(f\"Subtraction of {num1} and {num2} is {subtract(num1,num2)}\")\n",
    "\n",
    "    elif operation == '3':\n",
    "        print(f\"Product of {num1} and {num2} is {multiply(num1,num2)}\")\n",
    "    elif operation == '4':\n",
    "        print(f\"Division of {num1} and {num2} is {divide(num1,num2)}\")"
   ]
  },
  {
   "cell_type": "code",
   "execution_count": null,
   "metadata": {},
   "outputs": [],
   "source": [
    "#q4\n",
    "import math\n",
    "pi = math.pi\n",
    "def diameter(r):\n",
    "    return 2*r\n",
    "def circumference(r):\n",
    "    return 2*pi*r\n",
    "def area(r):\n",
    "    return 2*pi*r**2\n",
    "\n",
    "def menu():\n",
    "    choice = input('''What do you want to compute?\n",
    "    1. Diameter\n",
    "    2. Circumference\n",
    "    3. Area\n",
    "Choice: ''')\n",
    "    r = float(input(\"Enter radius of the circle: \"))\n",
    "\n",
    "    if choice in (\"1\",\"2\",\"3\"):\n",
    "        if choice == \"1\":\n",
    "            print(\"The diameter is \", diameter(r))\n",
    "        elif choice == \"2\":\n",
    "            print(\"The circumference is \", circumference(r))\n",
    "        elif choice == \"3\":\n",
    "            print(\"The area is \", area(r))\n",
    "menu()"
   ]
  },
  {
   "cell_type": "markdown",
   "metadata": {},
   "source": [
    "# LAB 5 FUNCTIONS TOO"
   ]
  },
  {
   "cell_type": "code",
   "execution_count": null,
   "metadata": {},
   "outputs": [],
   "source": [
    "#Q1\n",
    "def add(num1, num2):\n",
    "    return num1+num2\n",
    "num1 = int(input(\"Enter first number: \"))\n",
    "num2 = int(input(\"Enter second number: \"))\n",
    "print(\" of the given two number is: \", add(num1, num2))\n"
   ]
  },
  {
   "cell_type": "code",
   "execution_count": null,
   "metadata": {},
   "outputs": [],
   "source": [
    "#Q2\n",
    "def add(num1, num2):\n",
    "    return num1+num2\n",
    "def subtract(num1, num2):\n",
    "    return num1-num2\n",
    "def multiply(num1, num2):\n",
    "    return num1 * num2\n",
    "def divide(num1, num2):\n",
    "    return num1 / num2\n",
    "\n",
    "num1 = int(input(\"Enter 1st number: \"))\n",
    "num2 = int(input(\"Enter 2nd number: \")\n",
    ")\n",
    "operation=input('''Arithmetic Operations are:\n",
    "1. Addition\n",
    "2. Subtraction\n",
    "3. Multiplication\n",
    "4. Division\n",
    "Select your option:  ''')\n",
    "\n",
    "if operation in (\"1\",\"2\",\"3\",\"4\"):\n",
    "    if operation == \"1\":\n",
    "        print(f\"Addition is {add(num1,num2)}\")\n",
    "    elif operation == '2':\n",
    "        print(f\"Subtraction is {subtract(num1,num2)}\")\n",
    "    elif operation == '3':\n",
    "        print(f\"Multiplication is {multiply(num1,num2)}\")\n",
    "    elif operation == '4':\n",
    "        print(f\"Division is {divide(num1,num2)}\")\n"
   ]
  },
  {
   "cell_type": "code",
   "execution_count": null,
   "metadata": {},
   "outputs": [],
   "source": [
    "#Q3\n",
    "def check_number(num):\n",
    "    if (num in list):\n",
    "        print(\"yes\")\n",
    "    else:\n",
    "        print(\"no\")\n",
    "list = [65,75,85,95,105]\n",
    "num = int(input(\"Enter number: \"))\n",
    "check_number(num)"
   ]
  },
  {
   "cell_type": "code",
   "execution_count": null,
   "metadata": {},
   "outputs": [],
   "source": [
    "#Q4\n",
    "marks=[]\n",
    "\n",
    "def mark(i):\n",
    "    for i in range(1, i+1):\n",
    "        mark = int(input(f\"Enter {i} subject marks:\"))\n",
    "        marks.append(mark)\n",
    "    total = sum(marks)\n",
    "    print(\"Total of all Subjects: \", total)\n",
    "    return total\n",
    "\n",
    "def average(total):\n",
    "    avg = total/len(marks)\n",
    "    print(\"Average of Semester: \", avg)\n",
    "    return avg\n",
    "\n",
    "def grade(avg):\n",
    "    if avg>=80 and avg<=100:  \n",
    "        grade = \"A+\"\n",
    "    elif avg>=75 and avg<=80: \n",
    "        grade = \"A\"\n",
    "    elif avg>=70 and avg<=75: \n",
    "        grade = \"B+\"\n",
    "    elif avg>=65 and avg<=70: \n",
    "        grade = \"B\"\n",
    "    elif avg>=60 and avg<=65: \n",
    "        grade = \"C+\"\n",
    "    elif avg>=55 and avg<=60:\n",
    "        grade = \"C\"\n",
    "    elif avg>=50 and avg<=55: \n",
    "        grade = \"C-\"\n",
    "    else:\n",
    "        grade = \"D\"\n",
    "    print(\"Grade of Semester: \", grade)\n",
    "\n",
    "def display():\n",
    "    process = int(input('''Do you want to continue?\n",
    "    '0' to Continue \n",
    "    '-1' to Terminate: '''))\n",
    "    if process == 0:\n",
    "        choice = int(input(f'''Your Options are:\n",
    "        1.\tAdd new student detail.\n",
    "        2.\tView all student details.\n",
    "        3.\tSearch Specific student detail.\n",
    "Select your choice: '''))\n",
    "        if choice == 1:\n",
    "            name = input(\"Enter Student name: \")\n",
    "            tpn = input(f\"Enter {name}'s TP Number: \")\n",
    "            i = int(input(\"How many subjects in Semester: \"))\n",
    "            grade(average(mark(i)))\n",
    "            display()\n",
    "    else:\n",
    "        exit()\n",
    "\n",
    "display()"
   ]
  },
  {
   "cell_type": "markdown",
   "metadata": {},
   "source": [
    "# LAB 6 FILE HANDLER"
   ]
  },
  {
   "cell_type": "code",
   "execution_count": null,
   "metadata": {},
   "outputs": [],
   "source": [
    "#write\n",
    "filehandler = open('fisrt.txt', \"w\")\n",
    "filehandler.write('Hell\\n')\n",
    "filehandler.write('World!')\n",
    "filehandler.close()\n",
    "\n",
    "#read\n",
    "filehandler = open('first.txt','r')\n",
    "for line in filehandler:\n",
    "    print(line)\n",
    "filehandler.close()\n",
    "\n",
    "#read but remove stuff\n",
    "filehandler = open('first.txt','r')\n",
    "for line in filehandler:\n",
    "    line = line.rstrip()\n",
    "    print(line)\n",
    "filehandler.close()\n",
    "\n",
    "#counting lines\n",
    "filehandler = open('first.txt','r')\n",
    "count = 0\n",
    "for line in filehandler:\n",
    "    count = count+1\n",
    "print(\"Line count: \", count)\n",
    "filehandler.close()"
   ]
  }
 ],
 "metadata": {
  "kernelspec": {
   "display_name": "Python 3.9.13 64-bit (windows store)",
   "language": "python",
   "name": "python3"
  },
  "language_info": {
   "codemirror_mode": {
    "name": "ipython",
    "version": 3
   },
   "file_extension": ".py",
   "mimetype": "text/x-python",
   "name": "python",
   "nbconvert_exporter": "python",
   "pygments_lexer": "ipython3",
   "version": "3.9.13"
  },
  "orig_nbformat": 4,
  "vscode": {
   "interpreter": {
    "hash": "f0245b665cf58781e6ae9e6266a411f0aa756be09ec960e3a470b0ac9f461cf5"
   }
  }
 },
 "nbformat": 4,
 "nbformat_minor": 2
}
